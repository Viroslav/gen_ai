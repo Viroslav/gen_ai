{
  "cells": [
    {
      "cell_type": "markdown",
      "metadata": {
        "id": "SqMsvBANlvDv"
      },
      "source": [
        "## Prerequisites\n",
        "Before we start, make sure you have the following:\n",
        "\n",
        "- Access to a GPU (preferably A100 since videos require high sequence lengths).\n",
        "- Familiarity with Hugging Face’s Transformers library.\n",
        "- Pre-install necessary packages by running the below."
      ]
    },
    {
      "cell_type": "code",
      "execution_count": null,
      "metadata": {
        "id": "-T8dupbwlvDx"
      },
      "outputs": [],
      "source": [
        "!pip install -U -q transformers accelerate bitsandbytes peft datasets\n",
        "!pip install -q av\n",
        "!pip install -q lightning\n",
        "!pip install pyarrow==15.0.0\n",
        "!pip install wandb\n",
        "\n",
        "# restart notebooks here"
      ]
    },
    {
      "cell_type": "markdown",
      "metadata": {
        "id": "xTG2AJZT89qk"
      },
      "source": [
        "## Fine-tune InternVL 2B. on MMBench dataset\n",
        "\n",
        "In this notebook, you need to fine-tune the [InternVL](https://huggingface.co/OpenGVLab/InternVL2-1B) model on [MMBench](https://huggingface.co/datasets/OpenGVLab/MVBench) dataset which is comprised of various video-related tasks. Note that MMBench is quite small and is not made for tuning. So firstly you need to split it into training/testing parts.\n",
        "\n",
        "The goal for the model in this notebook is to answer given multiple choice questions based on the video. The questions can be realetd to temporal aspects of the video, pose prediction and so on.\n",
        "Sources:\n",
        "\n",
        "* InternVL [documentation](https://internvl.readthedocs.io/en/latest/internvl2.0/introduction.html)\n",
        "* InternVL [checkpoint on the hub](https://huggingface.co/OpenGVLab/InternVL2-1B)"
      ]
    },
    {
      "cell_type": "markdown",
      "metadata": {
        "id": "Szf17AKL89qm"
      },
      "source": [
        "## Define variables\n",
        "\n",
        "We'll first set some variables useful througout this notebook and doo all the necessary imports."
      ]
    },
    {
      "cell_type": "code",
      "execution_count": null,
      "metadata": {
        "id": "LJtnWc3b89qn"
      },
      "outputs": [],
      "source": [
        "import os\n",
        "import av\n",
        "import re\n",
        "import bisect\n",
        "import shutil\n",
        "import numpy as np\n",
        "from nltk import edit_distance\n",
        "\n",
        "from transformers import AutoProcessor\n",
        "from transformers import BitsAndBytesConfig, VideoLlavaForConditionalGeneration\n",
        "from peft import LoraConfig, prepare_model_for_kbit_training, get_peft_model\n",
        "\n",
        "import torch\n",
        "from torch.utils.data import Dataset\n",
        "from torch.utils.data import DataLoader\n",
        "from huggingface_hub import snapshot_download, hf_hub_download\n",
        "from datasets import load_dataset, concatenate_datasets\n",
        "\n",
        "import lightning as L\n",
        "from lightning.pytorch.callbacks.early_stopping import EarlyStopping, Callback\n",
        "\n",
        "\n",
        "MAX_LENGTH = 160\n",
        "MODEL_ID = \"LanguageBind/Video-LLaVA-7B-hf\"\n",
        "REPO_ID = \"your-hf-login/VideoLLava-demo\" # Change to your hf-hub repo\n",
        "\n",
        "os.environ[\"WANDB_API_KEY\"] = \"your-key\" # Change to your W&B profile if you need it\n",
        "os.environ[\"WANDB_MODE\"] = \"online\"\n",
        "\n",
        "from huggingface_hub import login\n",
        "access_token = \"your-hf-token\" # Change to your РА profile\n",
        "login(access_token)\n",
        "\n",
        "USE_LORA = False\n",
        "USE_QLORA = True"
      ]
    },
    {
      "cell_type": "markdown",
      "source": [
        "# MVBench benchmark\n",
        "\n",
        "[MVBench on HF Datasets](https://huggingface.co/datasets/OpenGVLab/MVBench)\n",
        "\n",
        "![MVbench1.png](https://huggingface.co/datasets/OpenGVLab/MVBench/resolve/main/assert/generation.png)\n",
        "\n",
        "It consists of the 20 temporal task examples as follows.\n",
        "\n",
        "![MVbench-structure.png](https://huggingface.co/datasets/OpenGVLab/MVBench/resolve/main/assert/task_example.png)\n",
        "\n",
        "\n",
        "Here we have a nice viewer for each task:\n",
        "\n",
        "[Dataset viewer](https://huggingface.co/datasets/OpenGVLab/MVBench/viewer/action_sequence)\n",
        "\n"
      ],
      "metadata": {
        "id": "yM0HKJyKEwlp"
      }
    },
    {
      "cell_type": "markdown",
      "metadata": {
        "id": "WNZQ3imilvDz"
      },
      "source": [
        "We will start by downloading and processing the dataset. Even though MMBench is a small dataset, it still requires **around 1000B to store the videos**, so make sure you have enough free space.\n",
        "\n",
        "First, we will use this mapping to get the datasets because each one is a separate subset in its own folder. Then we need a few helper functions to download videos and process them to fit the model's format (8 frames each video)."
      ]
    },
    {
      "cell_type": "code",
      "source": [
        "data_list = {\n",
        "    \"Action Sequence\": (\"action_sequence.json\", \"star/Charades_v1_480/\", \"video\", True), # has start & end\n",
        "    \"Action Prediction\": (\"action_prediction.json\", \"star/Charades_v1_480/\", \"video\", True), # has start & end\n",
        "    \"Action Antonym\": (\"action_antonym.json\", \"ssv2_video/\", \"video\", False),\n",
        "    \"Fine-grained Action\": (\"fine_grained_action.json\", \"Moments_in_Time_Raw/videos/\", \"video\", False),\n",
        "    \"Unexpected Action\": (\"unexpected_action.json\", \"FunQA_test/test/\", \"video\", False),\n",
        "    \"Object Existence\": (\"object_existence.json\", \"clevrer/video_validation/\", \"video\", False),\n",
        "    \"Object Interaction\": (\"object_interaction.json\", \"star/Charades_v1_480/\", \"video\", True), # has start & end\n",
        "    \"Object Shuffle\": (\"object_shuffle.json\", \"perception/videos/\", \"video\", False),\n",
        "    \"Moving Direction\": (\"moving_direction.json\", \"clevrer/video_validation/\", \"video\", False),\n",
        "    \"Action Localization\": (\"action_localization.json\", \"sta/sta_video/\", \"video\", True),  # has start & end\n",
        "    \"Scene Transition\": (\"scene_transition.json\", \"scene_qa/video/\", \"video\", False),\n",
        "    \"Action Count\": (\"action_count.json\", \"perception/videos/\", \"video\", False),\n",
        "    \"Moving Count\": (\"moving_count.json\", \"clevrer/video_validation/\", \"video\", False),\n",
        "    \"Moving Attribute\": (\"moving_attribute.json\", \"clevrer/video_validation/\", \"video\", False),\n",
        "    \"State Change\": (\"state_change.json\", \"perception/videos/\", \"video\", False),\n",
        "    \"Fine-grained Pose\": (\"fine_grained_pose.json\", \"nturgbd/\", \"video\", False),\n",
        "    \"Character Order\": (\"character_order.json\", \"perception/videos/\", \"video\", False),\n",
        "    \"Egocentric Navigation\": (\"egocentric_navigation.json\", \"vlnqa/\", \"video\", False),\n",
        "    \"Episodic Reasoning\": (\"episodic_reasoning.json\", \"tvqa/frames_fps3_hq/\", \"frame\", True),  # has start & end, read frame\n",
        "    \"Counterfactual Inference\": (\"counterfactual_inference.json\", \"clevrer/video_validation/\", \"video\", False),\n",
        "}\n",
        "\n",
        "data_dir = \"dataset\"\n",
        "if not os.path.exists(data_dir):\n",
        "    os.mkdir(\"dataset\")"
      ],
      "metadata": {
        "id": "gIwJovvg9YpI"
      },
      "execution_count": null,
      "outputs": []
    },
    {
      "cell_type": "code",
      "execution_count": null,
      "metadata": {
        "id": "yVdfSXMGlvDz"
      },
      "outputs": [],
      "source": [
        "def read_video_pyav(video_path, start, end, n_frames=8):\n",
        "    \"\"\"\n",
        "    Reads a video for given start-end timestamps interval\n",
        "    and uniformly samples 8 frames of it\n",
        "    \"\"\"\n",
        "    container = av.open(video_path)\n",
        "    video = container.streams.get(0)[0]\n",
        "\n",
        "    av_timestamps = [\n",
        "        int(packet.pts * video.time_base) for packet in container.demux(video) if packet.pts is not None\n",
        "    ]\n",
        "\n",
        "    av_timestamps.sort()\n",
        "    start_id = bisect.bisect_left(av_timestamps, start)\n",
        "    end_id = bisect.bisect_left(av_timestamps, end)\n",
        "\n",
        "    # in case it is a very short video, lets take a longer duration and sample\n",
        "    if end_id  - start_id < 10:\n",
        "        end_id += 10\n",
        "        start_id -= 10\n",
        "\n",
        "    end_id = min(len(av_timestamps) - 1, end_id)\n",
        "    start_id = max(1, start_id)\n",
        "\n",
        "    # We sample n_frames frames for tuning following the original paper\n",
        "    # But we can increase the number of frames for longer videos and check out if it helps performance\n",
        "    # Change the below \"n_frames\" to any number of frames you want, and note that more frames -> more computational resources needed\n",
        "    indices = np.linspace(start_id, end_id, n_frames).astype(int)\n",
        "\n",
        "    frames = []\n",
        "    container.seek(0)\n",
        "    for i, frame in enumerate(container.decode(video=0)):\n",
        "        if i > end_id:\n",
        "            break\n",
        "        if i >= start_id and i in indices:\n",
        "            frames.append(frame)\n",
        "    assert len(frames) == n_frames, f\"Got {len(frames)} frames but should be {n_frames}. Check the indices: {indices};, start_id: {start_id}, end_id: {end_id}. Len of video is {len(av_timestamps)} frames.\"\n",
        "    return np.stack([x.to_ndarray(format=\"rgb24\") for x in frames])"
      ]
    },
    {
      "cell_type": "code",
      "execution_count": null,
      "metadata": {
        "id": "X9-8O207lvD0"
      },
      "outputs": [],
      "source": [
        "def collate_read_video(example, path):\n",
        "    # Some datasets have a start-end interval, so we try to get it if exists.\n",
        "    # Otherwise just set a very large end timestamp\n",
        "    clip = read_video_pyav(f'{path}/{example[\"video\"]}', example.get(\"start\", 1), example.get(\"end\", 1e+10))\n",
        "    example[\"clip\"] = clip\n",
        "    return example"
      ]
    },
    {
      "cell_type": "code",
      "source": [
        "# Download the videos from datasets repo and unzip.\n",
        "# Make sure you have enough free space before downloading and unzipping\n",
        "\n",
        "# videos = snapshot_download(repo_id=\"OpenGVLab/MVBench\", allow_patterns=\"*\", repo_type=\"dataset\")\n",
        "# for zip_file in os.listdir(f\"{videos}/video\"):\n",
        "#     if zip_file.endswith(\".zip\"):\n",
        "#         shutil.unpack_archive(f\"{videos}/video/{zip_file}\", f\"{videos}/videos_unzipped/\")"
      ],
      "metadata": {
        "id": "9jUicyg46_7K"
      },
      "execution_count": null,
      "outputs": []
    },
    {
      "cell_type": "markdown",
      "source": [
        "Make a following data structure:\n",
        "\n",
        "```\n",
        "dataset/\n",
        "    /json\n",
        "        task_name.json\n",
        "    /video\n",
        "        /task_name_prefix (optional)\n",
        "            /task_name\n",
        "                video_0.mp4\n",
        "                video_1.mp4\n",
        "                video_2.mp4\n",
        "                ...\n",
        "                video_100.mp4\n",
        "```\n",
        "\n",
        "\n",
        "\n"
      ],
      "metadata": {
        "id": "ThTV0DbDA9RP"
      }
    },
    {
      "cell_type": "code",
      "execution_count": null,
      "metadata": {
        "id": "BMNQND-ilvD0"
      },
      "outputs": [],
      "source": [
        "# YOUR CODE HERE"
      ]
    },
    {
      "cell_type": "code",
      "source": [
        "# Some tasks in MVBench are missing video files - keep it in mind!\n",
        "# YOUR CODE HERE"
      ],
      "metadata": {
        "id": "XSWorVK8B9ap"
      },
      "execution_count": null,
      "outputs": []
    },
    {
      "cell_type": "code",
      "source": [
        "# Load videos and split them into frames\n",
        "# YOUR CODE HERE"
      ],
      "metadata": {
        "id": "-1stzqVuCtRF"
      },
      "execution_count": null,
      "outputs": []
    },
    {
      "cell_type": "code",
      "execution_count": null,
      "metadata": {
        "id": "GRTrOYp6lvD0"
      },
      "outputs": [],
      "source": [
        "# Load model's processor\n",
        "# YOUR CODE HERE"
      ]
    },
    {
      "cell_type": "markdown",
      "metadata": {
        "id": "rtxYp7h2lvD0"
      },
      "source": [
        "## Custom Dataset Class\n",
        "\n",
        "In the next step, you'll need **to define a custom dataset** class and the necessary functions to prepare our data for fine-tuning model. The VideoQADataset class extends the [PyTorch Dataset](https://pytorch.org/tutorials/beginner/basics/data_tutorial.html) class to facilitate loading and processing \"MMBench\". This class will handle the conversion of dataset samples into the format required for training and evaluation by preparing a prompt and making array from videos.\n",
        "\n",
        "Next, you need **to define collate functions** to handle the batching of data during training and evaluation. These functions ensure that the input data is properly formatted and padded.\n",
        "\n",
        "Here use the processor to turn the (video, target token sequence) into the format that the model expects (which is pixel_values, input_ids etc.). Use a dynamic padding of the batches: each batch contains ground truth sequences of varying lengths.\n",
        "\n",
        "Also you can limit the length of the text tokens (input_ids) to a max length due to memory constraints, feel free to expand if your target token sequences are longer (I'd recommend plotting the average token length of your dataset to determine the optimal value).\n",
        "\n",
        "The formatting of the input_ids is super important: you need to respect a so-called [chat template](https://huggingface.co/docs/transformers/main/en/chat_templating).\n",
        "\n",
        "Labels are created for the model by simply copying the inputs to the LLM (input_ids), but with padding tokens replaced by the ignore index of the loss function. This ensures that the model doesn't need to learn to predict padding tokens (used to batch examples together).\n",
        "\n",
        "Why are the labels a copy of the model inputs, you may ask? The model will internally shift the labels one position to the right so that the model will learn to predict the next token. This can be seen here.\n",
        "\n",
        "The collate function for evaluation is different, since there you only need to feed the prompt to the model, as we'll use the `generate()` method to autoregressively generate a completion."
      ]
    },
    {
      "cell_type": "code",
      "execution_count": null,
      "metadata": {
        "id": "un_H3-pPlvD0"
      },
      "outputs": [],
      "source": [
        "class VideoQADataset(Dataset):\n",
        "    \"\"\"\n",
        "    PyTorch Dataset for VideoQADataset.\n",
        "    This class takes a HuggingFace Dataset as input.\n",
        "    \"\"\"\n",
        "\n",
        "    def __init__(\n",
        "        self,\n",
        "        dataset: str,\n",
        "    ):\n",
        "        super().__init__()\n",
        "        # YOUR CODE HERE\n",
        "\n",
        "    def __len__(self) -> int:\n",
        "        # YOUR CODE HERE\n",
        "\n",
        "    def __getitem__(self, idx: int):\n",
        "\n",
        "        # YOUR CODE HERE\n",
        "\n",
        "        return prompt, clip"
      ]
    },
    {
      "cell_type": "code",
      "execution_count": null,
      "metadata": {
        "id": "AQ6rlxudlvD1"
      },
      "outputs": [],
      "source": [
        "def train_collate_fn(examples):\n",
        "\n",
        "    # YOUR CODE HERE\n",
        "\n",
        "    return input_ids, attention_mask, pixel_values_videos, labels\n",
        "\n",
        "\n",
        "def eval_collate_fn(examples):\n",
        "\n",
        "    # YOUR CODE HERE\n",
        "\n",
        "    return input_ids, attention_mask, pixel_values_videos, answer_choice"
      ]
    },
    {
      "cell_type": "markdown",
      "metadata": {
        "id": "0sH2oWArlvD1"
      },
      "source": [
        "## Shuffling and Splitting the Dataset\n",
        "You need to shuffle dataset, and then split it into training and test sets. This ensures that our model is trained on a diverse and representative sample of the data.\n"
      ]
    },
    {
      "cell_type": "code",
      "execution_count": null,
      "metadata": {
        "id": "DenEK2IqlvD1"
      },
      "outputs": [],
      "source": [
        "# YOUR CODE HERE"
      ]
    },
    {
      "cell_type": "code",
      "execution_count": null,
      "metadata": {
        "id": "X_DDgpOulvD1"
      },
      "outputs": [],
      "source": [
        "%matplotlib inline\n",
        "\n",
        "from matplotlib import pyplot as plt\n",
        "from matplotlib import animation\n",
        "from IPython.display import HTML\n",
        "\n",
        "\n",
        "example = dataset['train'][0]\n",
        "clip = example[\"clip\"]\n",
        "# np array with shape (frames, height, width, channels)\n",
        "video = np.array(clip)\n",
        "\n",
        "\n",
        "# Vusualize your data\n",
        "# YOUR CODE HERE"
      ]
    },
    {
      "cell_type": "code",
      "execution_count": null,
      "metadata": {
        "id": "aLtCWizwlvD1"
      },
      "outputs": [],
      "source": [
        "fig = plt.figure()\n",
        "im = plt.imshow(video[0,:,:,:])\n",
        "\n",
        "plt.close() # this is required to not display the generated image\n",
        "\n",
        "def init():\n",
        "    im.set_data(video[0,:,:,:])\n",
        "\n",
        "def animate(i):\n",
        "    im.set_data(video[i,:,:,:])\n",
        "    return im\n",
        "\n",
        "anim = animation.FuncAnimation(fig, animate, init_func=init, frames=video.shape[0],\n",
        "                               interval=100)\n",
        "HTML(anim.to_html5_video())"
      ]
    },
    {
      "cell_type": "markdown",
      "metadata": {
        "id": "lsc4WadilvD1"
      },
      "source": [
        "And now wrap it in the Pytorch Datasets class and print one example as sanity check."
      ]
    },
    {
      "cell_type": "code",
      "execution_count": null,
      "metadata": {
        "id": "ZXPeOA34lvD1"
      },
      "outputs": [],
      "source": [
        "train_dataset = VideoLlavaDataset(dataset[\"train\"])\n",
        "eval_dataset = VideoLlavaDataset(dataset[\"test\"])"
      ]
    },
    {
      "cell_type": "code",
      "execution_count": null,
      "metadata": {
        "id": "AeI7LaF4lvD1"
      },
      "outputs": [],
      "source": [
        "prompt, clip = train_dataset[0]"
      ]
    },
    {
      "cell_type": "markdown",
      "source": [
        "# Model"
      ],
      "metadata": {
        "id": "4Th3HTV6A_89"
      }
    },
    {
      "cell_type": "markdown",
      "metadata": {
        "id": "pd4mrynzlvD2"
      },
      "source": [
        "## Load model\n",
        "Next, load your InternVL model from the hub. This is a model with about 1 billion trainable parameters (as it combines a **Qwen2 1B language model** with a relatively low-parameter vision **InternViT encoder**). Do note that we load a model here which already has undergone supervised fine-tuning (SFT) instructions dataset. We can benefit from the fine-tuning that the model already has undergone.\n",
        "\n",
        "## Full fine-tuning, LoRa and Q-LoRa\n",
        "\n",
        "**Select the fine-tuning method.**\n",
        "\n",
        " For reference, fine-tuning a model using the AdamW optimizer (which is often used to optimize neural networks) with mixed precision, you need about 18 times the amount of parameters in GB of GPU RAM. So in this case, we would need 18x1 billion bytes = 18 GB of GPU RAM if we want to update all the parameters of the model. Not so huge right? But using PEFT approach it could be less.\n",
        "\n",
        "Some clever people came up with the LoRa method (LoRa is short for low-rank adapation). It allows to just freeze the existing weights and only train a couple of adapter layers on top of the base model. Hugging Face offers the separate [PEFT library](https://huggingface.co/docs/peft/main/en/index) for easy use of LoRa, along with other Parameter-Efficient Fine-Tuning methods.\n",
        "\n",
        "Moreover, one can not only freeze the existing base model but also quantize it (which means, shrinking down its size). A neural network's parameters are typically saved in either float32 (which means, 32 bits or 4 bytes are used to store each parameter value) or float16 (which means, 16 bits or half a byte - also called half precision). However, with some clever algorithms one can shrink each parameter to just 8 or 4 bits (half a byte!), without significant effect on final performance. Read all about it here: https://huggingface.co/blog/4bit-transformers-bitsandbytes.\n",
        "\n",
        "This means that we're going to shrink the size of the base 1B model considerably using 4-bit quantization, and then only train a couple of adapter layers on top using LoRa (in float16). This idea of combining LoRa with quantization is called Q-LoRa and is the most memory friendly version.\n",
        "\n",
        "There exist many forms of quantization, here we leverage the [BitsAndBytes integration](https://huggingface.co/docs/transformers/main_classes/quantization#transformers.BitsAndBytesConfig)."
      ]
    },
    {
      "cell_type": "code",
      "execution_count": null,
      "metadata": {
        "id": "DQ0nTqbVlvD2"
      },
      "outputs": [],
      "source": [
        "## Load model\n",
        "# Three options for training, from the lowest precision training to the highest precision training:\n",
        "# QLoRA: model uses 4-bit quantization, which helps in reducing memory usage while maintaining performance.\n",
        "# Standard LoRA:  model is loaded with standard LoRA adaptations.\n",
        "# Full Fine-Tuning: no memory optimization are done. In that case Flash Attention is used to speed up training, if hardware supports it.\n",
        "\n",
        "# YOUR CODE HERE"
      ]
    },
    {
      "cell_type": "code",
      "execution_count": null,
      "metadata": {
        "id": "MYDW50LslvD2",
        "colab": {
          "base_uri": "https://localhost:8080/"
        },
        "outputId": "400cf245-42be-42d6-83f1-23211f77cb3c"
      },
      "outputs": [
        {
          "output_type": "execute_result",
          "data": {
            "text/plain": [
              "['up_proj', 'down_proj', 'q_proj', 'o_proj', 'k_proj', 'gate_proj', 'v_proj']"
            ]
          },
          "metadata": {},
          "execution_count": 27
        }
      ],
      "source": [
        "def find_all_linear_names(model):\n",
        "    # Only for LoRA ot QLoRA\n",
        "\n",
        "    cls = torch.nn.Linear\n",
        "    lora_module_names = set()\n",
        "    multimodal_keywords = ['multi_modal_projector', 'vision_model']\n",
        "    for name, module in model.named_modules():\n",
        "        if any(mm_keyword in name for mm_keyword in multimodal_keywords):\n",
        "            continue\n",
        "        if isinstance(module, cls):\n",
        "            names = name.split('.')\n",
        "            lora_module_names.add(names[0] if len(names) == 1 else names[-1])\n",
        "\n",
        "    if 'lm_head' in lora_module_names: # needed for 16-bit\n",
        "        lora_module_names.remove('lm_head')\n",
        "    return list(lora_module_names)\n",
        "\n",
        "# If you selected LoRA ot QLora make a choise of parameters to replace\n",
        "# YOUR CODE HERE\n",
        "\n",
        "# Then create LoraConfig and run prepare_model_for_kbit_training(...)\n",
        "# and finally: model = get_peft_model(model, ...)\n",
        "# YOUR CODE HERE"
      ]
    },
    {
      "cell_type": "markdown",
      "metadata": {
        "id": "zuv04h-DlvD2"
      },
      "source": [
        "## Define PyTorch Lightning Module for Video-LLaVA\n",
        "To streamline the training and evaluation of the Video-InternVL model, you can use [LightningModule](https://lightning.ai/docs/pytorch/stable/common/lightning_module.html), which abstracts away much of the boilerplate code and provides a structured framework for model training. In this section, you need to define the InternVLModelPLModule, a custom PyTorch Lightning module that encapsulates the model, training loop, validation loop, and optimizer configuration.\n",
        "\n",
        "### InternVLModelPLModule Class\n",
        "\n",
        "The InternVLModelPLModule class inherits from LightningModule and includes methods for training, validation, and optimizer configuration. This setup ensures a clean and efficient training process.\n",
        "\n",
        "Basically, PyTorch Lightning will take care of all device placements (.to(device)) for us, as well as the backward pass, putting the model in training mode, etc.\n",
        "\n",
        "Notice the difference between a training step and an evaluation step:\n",
        "\n",
        "- a training step only consists of a forward pass, in which we compute the cross-entropy loss between the model's next token predictions and the ground truth (in parallel for all tokens, this technique is known as \"teacher forcing\"). The backward pass is handled by PyTorch Lightning.\n",
        "- an evaluation step consists of making the model autoregressively complete the prompt using the generate() method. After that, you compute an evaluation metric between the predicted sequences and the ground truth ones. This allows you to see how the model is improving over the course of training. The metric we use here is accuracy of answering the question.\n",
        "\n",
        "Besides that, you define the optimizer to use (AdamW is a good default choice) and the data loaders, which use the collate functions defined above to batch together items of the PyTorch datasets. Do note that AdamW is a pretty heavy optimizer in terms of memory requirements, but as we're training with QLoRa we only need to store optimizer states for the adapter layers. For full fine-tuning, one could take a look at more memory friendly optimizers such as 8-bit Adam."
      ]
    },
    {
      "cell_type": "code",
      "execution_count": null,
      "metadata": {
        "id": "WvNdvJ1ylvD2"
      },
      "outputs": [],
      "source": [
        "class InternVLModelPLModule(L.LightningModule):\n",
        "    def __init__(self, config, processor, model):\n",
        "        super().__init__()\n",
        "        # YOUR CODE HERE\n",
        "\n",
        "    def training_step(self, batch, batch_idx):\n",
        "        # YOUR CODE HERE\n",
        "\n",
        "    def validation_step(self, batch, batch_idx, dataset_idx=0):\n",
        "    # YOUR CODE HERE\n",
        "\n",
        "    def configure_optimizers(self):\n",
        "        # YOUR CODE HERE\n",
        "\n",
        "    def train_dataloader(self):\n",
        "        return DataLoader(train_dataset, collate_fn=train_collate_fn,\n",
        "                          batch_size=self.batch_size, shuffle=True, num_workers=4)\n",
        "\n",
        "    def val_dataloader(self):\n",
        "        return DataLoader(eval_dataset, collate_fn=eval_collate_fn,\n",
        "                          batch_size=self.batch_size, shuffle=False, num_workers=4)"
      ]
    },
    {
      "cell_type": "markdown",
      "metadata": {
        "id": "u6iWFbnQlvD2"
      },
      "source": [
        "Then instantiate it (based on a config dictionary which defines all hyperparameters for training).\n",
        "\n",
        "The batch size was determined based on the compute available.\n",
        "\n",
        "Do note that one can play around with the hyperparameters, I just use good defaults here: 10 epochs, a learning rate of 1e-4, use mixed precision for training (more memory friendly). One could extend this with things like gradient accumulation and gradient checkpointing.\n",
        "\n",
        "I recommend [this guide](https://huggingface.co/docs/transformers/v4.20.1/en/perf_train_gpu_one) which goes over all tips and tricks regarding maximizing fine-tuning performance on consumer hardware."
      ]
    },
    {
      "cell_type": "code",
      "execution_count": null,
      "metadata": {
        "id": "K2I7vJaDlvD2"
      },
      "outputs": [],
      "source": [
        "config = {\"max_epochs\": 2,\n",
        "          # \"val_check_interval\": 0.2, # how many times we want to validate during an epoch\n",
        "          \"check_val_every_n_epoch\": 1,\n",
        "          \"gradient_clip_val\": 1.0,\n",
        "          \"accumulate_grad_batches\": 8,\n",
        "          \"lr\": 1e-4,\n",
        "          \"batch_size\": 1,\n",
        "          \"num_nodes\": 1,\n",
        "          \"warmup_steps\": 50,\n",
        "}\n",
        "# Instantiate yout module here\n",
        "# YOUR CODE HERE"
      ]
    },
    {
      "cell_type": "markdown",
      "metadata": {
        "id": "I-EncDAllvD2"
      },
      "source": [
        "## Define callbacks\n",
        "Optionally, Lightning allows to define so-called [callbacks](https://lightning.ai/docs/pytorch/stable/extensions/callbacks.html), which are arbitrary pieces of code that can be executed during training.\n",
        "\n",
        "You'd better use the EarlyStopping callback of Lightning, which will automatically stop training once the evaluation metric (edit distance in our case) doesn't improve after 3 epochs."
      ]
    },
    {
      "cell_type": "code",
      "execution_count": null,
      "metadata": {
        "id": "p2KRo-rclvD2"
      },
      "outputs": [],
      "source": [
        "from huggingface_hub import HfApi\n",
        "from lightning.pytorch.loggers import WandbLogger, TensorBoardLogger\n",
        "\n",
        "logger = TensorBoardLogger(\"tb_logs\", name=\"VideoLLava-demo\")\n",
        "\n",
        "api = HfApi()\n",
        "\n",
        "class PushToHubCallback(Callback):\n",
        "    def on_train_epoch_end(self, trainer, pl_module):\n",
        "        print(f\"Pushing model to the hub, epoch {trainer.current_epoch}\")\n",
        "        pl_module.model.push_to_hub(REPO_ID,\n",
        "                                    commit_message=f\"Training in progress, epoch {trainer.current_epoch}\")\n",
        "\n",
        "    def on_train_end(self, trainer, pl_module):\n",
        "        print(f\"Pushing model to the hub after training\")\n",
        "        pl_module.processor.push_to_hub(REPO_ID,\n",
        "                                    commit_message=f\"Training done\")\n",
        "        pl_module.model.push_to_hub(REPO_ID,\n",
        "                                    commit_message=f\"Training done\")\n",
        "\n",
        "early_stop_callback = EarlyStopping(monitor=\"your-metric-here\",\n",
        "                                    patience=3, verbose=False, mode=\"max\")"
      ]
    },
    {
      "cell_type": "markdown",
      "metadata": {
        "id": "S-ylKSrMlvD2"
      },
      "source": [
        "## Train!\n",
        " Trainer class supports many more flags. See the [docs](https://lightning.ai/docs/pytorch/stable/api/lightning.pytorch.trainer.trainer.Trainer.html#lightning.pytorch.trainer.trainer.Trainer)"
      ]
    },
    {
      "cell_type": "code",
      "execution_count": null,
      "metadata": {
        "id": "liZhW7NhlvD3"
      },
      "outputs": [],
      "source": [
        "trainer = L.Trainer(\n",
        "        # YOUR CODE HERE\n",
        ")"
      ]
    },
    {
      "cell_type": "code",
      "execution_count": null,
      "metadata": {
        "scrolled": true,
        "id": "X1XGM6QflvD3"
      },
      "outputs": [],
      "source": [
        "trainer.fit(model_module)"
      ]
    },
    {
      "cell_type": "code",
      "source": [
        "# %load_ext tensorboard\n",
        "# %reload_ext tensorboard\n",
        "# %tensorboard --logdir ."
      ],
      "metadata": {
        "id": "zbEdmdrn_K_l"
      },
      "execution_count": null,
      "outputs": []
    },
    {
      "cell_type": "markdown",
      "metadata": {
        "id": "hQPiR5IV89qs"
      },
      "source": [
        "## Inference\n",
        "\n",
        "Let's see if the model has learned something. First load the model from the hub first."
      ]
    },
    {
      "cell_type": "code",
      "execution_count": null,
      "metadata": {
        "id": "jc0JHzIY89qs"
      },
      "outputs": [],
      "source": [
        "from transformers import AutoProcessor, BitsAndBytesConfig, VideoLlavaForConditionalGeneration\n",
        "import torch\n",
        "\n",
        "# YOUR CODE HERE"
      ]
    },
    {
      "cell_type": "markdown",
      "metadata": {
        "id": "5Lqxte3U89qs"
      },
      "source": [
        "See one example from the validation set here and plot 8 frames to see what is happening in the video."
      ]
    },
    {
      "cell_type": "code",
      "execution_count": null,
      "metadata": {
        "id": "BNw1jE0n89qw"
      },
      "outputs": [],
      "source": [
        "from matplotlib import pyplot as plt\n",
        "from PIL import Image\n",
        "\n",
        "prompt, clip = eval_dataset[2]\n",
        "fig, axarr = plt.subplots(1, 2, figsize = (10, 10))\n",
        "fig.tight_layout()\n",
        "\n",
        "for i in range(2):\n",
        "    curr_frame = Image.fromarray(np.uint8(clip[i]))\n",
        "    axarr[i].imshow(curr_frame)\n",
        "    axarr[i].get_xaxis().set_visible(False)\n",
        "    axarr[i].get_yaxis().set_visible(False)\n",
        "    axarr[i].set_aspect('equal')\n",
        "\n",
        "plt.subplots_adjust(wspace=None, hspace=None)\n",
        "plt.axis('off')\n",
        "plt.show()"
      ]
    },
    {
      "cell_type": "markdown",
      "metadata": {
        "id": "xWWHU1xB89qx"
      },
      "source": [
        "Next you need to prepare the video for the model, along with the text prompt we used during training. You need to apply the chat template to make sure the format is respected.\n",
        "\n",
        "Notice that this is exactly the same as what you did for the evaluation data collate function."
      ]
    },
    {
      "cell_type": "code",
      "execution_count": null,
      "metadata": {
        "id": "BBWCEdiT89qx"
      },
      "outputs": [],
      "source": [
        "# YOUR CODE HERE"
      ]
    },
    {
      "cell_type": "markdown",
      "metadata": {
        "id": "w2Brzvy689qx"
      },
      "source": [
        "Next you should let the model autoregressively generate tokens using the [generate()](https://huggingface.co/docs/transformers/v4.40.1/en/main_classes/text_generation#transformers.GenerationMixin.generate) method, which is recommended for use at inference time. This method feeds each predicted token back into the model as conditioning for each next time step.\n",
        "\n",
        "Do note that there are various ways of decoding text, here we use greedy decoding which is the default. There are various fancier methods such as beam search and top-k sampling. Refer to [this amazing blog post](https://huggingface.co/blog/how-to-generate) for all details."
      ]
    },
    {
      "cell_type": "code",
      "execution_count": null,
      "metadata": {
        "id": "xFSVXwN889qx"
      },
      "outputs": [],
      "source": [
        "# Generate token IDs\n",
        "# YOUR CODE HERE\n",
        "\n",
        "# Decode back into text\n",
        "# YOUR CODE HERE"
      ]
    }
  ],
  "metadata": {
    "colab": {
      "provenance": [],
      "toc_visible": true,
      "gpuType": "T4"
    },
    "kernelspec": {
      "display_name": "Python 3",
      "name": "python3"
    },
    "language_info": {
      "codemirror_mode": {
        "name": "ipython",
        "version": 3
      },
      "file_extension": ".py",
      "mimetype": "text/x-python",
      "name": "python",
      "nbconvert_exporter": "python",
      "pygments_lexer": "ipython3",
      "version": "3.8.10"
    },
    "accelerator": "GPU"
  },
  "nbformat": 4,
  "nbformat_minor": 0
}